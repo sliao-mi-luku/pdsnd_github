{
 "cells": [
  {
   "cell_type": "markdown",
   "metadata": {},
   "source": [
    "### Explore Bike Share Data\n",
    "\n",
    "For this project, your goal is to ask and answer three questions about the available bikeshare data from Washington, Chicago, and New York.  This notebook can be submitted directly through the workspace when you are confident in your results.\n",
    "\n",
    "You will be graded against the project [Rubric](https://review.udacity.com/#!/rubrics/2508/view) by a mentor after you have submitted.  To get you started, you can use the template below, but feel free to be creative in your solutions!"
   ]
  },
  {
   "cell_type": "code",
   "execution_count": 165,
   "metadata": {},
   "outputs": [],
   "source": [
    "## Loading datasets\n",
    "ny = read.csv('new_york_city.csv')\n",
    "wash = read.csv('washington.csv')\n",
    "chi = read.csv('chicago.csv')"
   ]
  },
  {
   "cell_type": "code",
   "execution_count": 166,
   "metadata": {
    "scrolled": true
   },
   "outputs": [
    {
     "name": "stdout",
     "output_type": "stream",
     "text": [
      "[1] 54770     9\n"
     ]
    },
    {
     "data": {
      "text/html": [
       "<table>\n",
       "<thead><tr><th scope=col>X</th><th scope=col>Start.Time</th><th scope=col>End.Time</th><th scope=col>Trip.Duration</th><th scope=col>Start.Station</th><th scope=col>End.Station</th><th scope=col>User.Type</th><th scope=col>Gender</th><th scope=col>Birth.Year</th></tr></thead>\n",
       "<tbody>\n",
       "\t<tr><td>5688089                                       </td><td>2017-06-11 14:55:05                           </td><td>2017-06-11 15:08:21                           </td><td> 795                                          </td><td>Suffolk St &amp; Stanton St                   </td><td>W Broadway &amp; Spring St                    </td><td>Subscriber                                    </td><td><span style=white-space:pre-wrap>Male  </span></td><td>1998                                          </td></tr>\n",
       "\t<tr><td>4096714                                                           </td><td>2017-05-11 15:30:11                                               </td><td>2017-05-11 15:41:43                                               </td><td> 692                                                              </td><td>Lexington Ave &amp; E 63 St                                       </td><td><span style=white-space:pre-wrap>1 Ave &amp; E 78 St       </span></td><td>Subscriber                                                        </td><td><span style=white-space:pre-wrap>Male  </span>                    </td><td>1981                                                              </td></tr>\n",
       "\t<tr><td>2173887                                                            </td><td>2017-03-29 13:26:26                                                </td><td>2017-03-29 13:48:31                                                </td><td>1325                                                               </td><td><span style=white-space:pre-wrap>1 Pl &amp; Clinton St      </span></td><td><span style=white-space:pre-wrap>Henry St &amp; Degraw St  </span> </td><td>Subscriber                                                         </td><td><span style=white-space:pre-wrap>Male  </span>                     </td><td>1987                                                               </td></tr>\n",
       "\t<tr><td>3945638                                                            </td><td>2017-05-08 19:47:18                                                </td><td>2017-05-08 19:59:01                                                </td><td> 703                                                               </td><td><span style=white-space:pre-wrap>Barrow St &amp; Hudson St  </span></td><td><span style=white-space:pre-wrap>W 20 St &amp; 8 Ave       </span> </td><td>Subscriber                                                         </td><td>Female                                                             </td><td>1986                                                               </td></tr>\n",
       "\t<tr><td>6208972                                                            </td><td>2017-06-21 07:49:16                                                </td><td>2017-06-21 07:54:46                                                </td><td> 329                                                               </td><td><span style=white-space:pre-wrap>1 Ave &amp; E 44 St        </span></td><td><span style=white-space:pre-wrap>E 53 St &amp; 3 Ave       </span> </td><td>Subscriber                                                         </td><td><span style=white-space:pre-wrap>Male  </span>                     </td><td>1992                                                               </td></tr>\n",
       "\t<tr><td>1285652                                                            </td><td>2017-02-22 18:55:24                                                </td><td>2017-02-22 19:12:03                                                </td><td> 998                                                               </td><td><span style=white-space:pre-wrap>State St &amp; Smith St    </span></td><td><span style=white-space:pre-wrap>Bond St &amp; Fulton St   </span> </td><td>Subscriber                                                         </td><td><span style=white-space:pre-wrap>Male  </span>                     </td><td>1986                                                               </td></tr>\n",
       "</tbody>\n",
       "</table>\n"
      ],
      "text/latex": [
       "\\begin{tabular}{r|lllllllll}\n",
       " X & Start.Time & End.Time & Trip.Duration & Start.Station & End.Station & User.Type & Gender & Birth.Year\\\\\n",
       "\\hline\n",
       "\t 5688089                   & 2017-06-11 14:55:05       & 2017-06-11 15:08:21       &  795                      & Suffolk St \\& Stanton St & W Broadway \\& Spring St  & Subscriber                & Male                      & 1998                     \\\\\n",
       "\t 4096714                   & 2017-05-11 15:30:11       & 2017-05-11 15:41:43       &  692                      & Lexington Ave \\& E 63 St & 1 Ave \\& E 78 St         & Subscriber                & Male                      & 1981                     \\\\\n",
       "\t 2173887                   & 2017-03-29 13:26:26       & 2017-03-29 13:48:31       & 1325                      & 1 Pl \\& Clinton St       & Henry St \\& Degraw St    & Subscriber                & Male                      & 1987                     \\\\\n",
       "\t 3945638                   & 2017-05-08 19:47:18       & 2017-05-08 19:59:01       &  703                      & Barrow St \\& Hudson St   & W 20 St \\& 8 Ave         & Subscriber                & Female                    & 1986                     \\\\\n",
       "\t 6208972                   & 2017-06-21 07:49:16       & 2017-06-21 07:54:46       &  329                      & 1 Ave \\& E 44 St         & E 53 St \\& 3 Ave         & Subscriber                & Male                      & 1992                     \\\\\n",
       "\t 1285652                   & 2017-02-22 18:55:24       & 2017-02-22 19:12:03       &  998                      & State St \\& Smith St     & Bond St \\& Fulton St     & Subscriber                & Male                      & 1986                     \\\\\n",
       "\\end{tabular}\n"
      ],
      "text/markdown": [
       "\n",
       "| X | Start.Time | End.Time | Trip.Duration | Start.Station | End.Station | User.Type | Gender | Birth.Year |\n",
       "|---|---|---|---|---|---|---|---|---|\n",
       "| 5688089                 | 2017-06-11 14:55:05     | 2017-06-11 15:08:21     |  795                    | Suffolk St & Stanton St | W Broadway & Spring St  | Subscriber              | Male                    | 1998                    |\n",
       "| 4096714                 | 2017-05-11 15:30:11     | 2017-05-11 15:41:43     |  692                    | Lexington Ave & E 63 St | 1 Ave & E 78 St         | Subscriber              | Male                    | 1981                    |\n",
       "| 2173887                 | 2017-03-29 13:26:26     | 2017-03-29 13:48:31     | 1325                    | 1 Pl & Clinton St       | Henry St & Degraw St    | Subscriber              | Male                    | 1987                    |\n",
       "| 3945638                 | 2017-05-08 19:47:18     | 2017-05-08 19:59:01     |  703                    | Barrow St & Hudson St   | W 20 St & 8 Ave         | Subscriber              | Female                  | 1986                    |\n",
       "| 6208972                 | 2017-06-21 07:49:16     | 2017-06-21 07:54:46     |  329                    | 1 Ave & E 44 St         | E 53 St & 3 Ave         | Subscriber              | Male                    | 1992                    |\n",
       "| 1285652                 | 2017-02-22 18:55:24     | 2017-02-22 19:12:03     |  998                    | State St & Smith St     | Bond St & Fulton St     | Subscriber              | Male                    | 1986                    |\n",
       "\n"
      ],
      "text/plain": [
       "  X       Start.Time          End.Time            Trip.Duration\n",
       "1 5688089 2017-06-11 14:55:05 2017-06-11 15:08:21  795         \n",
       "2 4096714 2017-05-11 15:30:11 2017-05-11 15:41:43  692         \n",
       "3 2173887 2017-03-29 13:26:26 2017-03-29 13:48:31 1325         \n",
       "4 3945638 2017-05-08 19:47:18 2017-05-08 19:59:01  703         \n",
       "5 6208972 2017-06-21 07:49:16 2017-06-21 07:54:46  329         \n",
       "6 1285652 2017-02-22 18:55:24 2017-02-22 19:12:03  998         \n",
       "  Start.Station           End.Station            User.Type  Gender Birth.Year\n",
       "1 Suffolk St & Stanton St W Broadway & Spring St Subscriber Male   1998      \n",
       "2 Lexington Ave & E 63 St 1 Ave & E 78 St        Subscriber Male   1981      \n",
       "3 1 Pl & Clinton St       Henry St & Degraw St   Subscriber Male   1987      \n",
       "4 Barrow St & Hudson St   W 20 St & 8 Ave        Subscriber Female 1986      \n",
       "5 1 Ave & E 44 St         E 53 St & 3 Ave        Subscriber Male   1992      \n",
       "6 State St & Smith St     Bond St & Fulton St    Subscriber Male   1986      "
      ]
     },
     "metadata": {},
     "output_type": "display_data"
    }
   ],
   "source": [
    "# New York\n",
    "print(dim(ny))\n",
    "head(ny)"
   ]
  },
  {
   "cell_type": "code",
   "execution_count": 167,
   "metadata": {},
   "outputs": [
    {
     "name": "stdout",
     "output_type": "stream",
     "text": [
      "[1] 89051     7\n"
     ]
    },
    {
     "data": {
      "text/html": [
       "<table>\n",
       "<thead><tr><th scope=col>X</th><th scope=col>Start.Time</th><th scope=col>End.Time</th><th scope=col>Trip.Duration</th><th scope=col>Start.Station</th><th scope=col>End.Station</th><th scope=col>User.Type</th></tr></thead>\n",
       "<tbody>\n",
       "\t<tr><td>1621326                                                                                        </td><td>2017-06-21 08:36:34                                                                            </td><td>2017-06-21 08:44:43                                                                            </td><td> 489.066                                                                                       </td><td><span style=white-space:pre-wrap>14th &amp; Belmont St NW                       </span>        </td><td><span style=white-space:pre-wrap>15th &amp; K St NW                                     </span></td><td>Subscriber                                                                                     </td></tr>\n",
       "\t<tr><td> 482740                                                                                        </td><td>2017-03-11 10:40:00                                                                            </td><td>2017-03-11 10:46:00                                                                            </td><td> 402.549                                                                                       </td><td><span style=white-space:pre-wrap>Yuma St &amp; Tenley Circle NW                 </span>        </td><td><span style=white-space:pre-wrap>Connecticut Ave &amp; Yuma St NW                       </span></td><td>Subscriber                                                                                     </td></tr>\n",
       "\t<tr><td>1330037                                                                                        </td><td>2017-05-30 01:02:59                                                                            </td><td>2017-05-30 01:13:37                                                                            </td><td> 637.251                                                                                       </td><td><span style=white-space:pre-wrap>17th St &amp; Massachusetts Ave NW             </span>        </td><td><span style=white-space:pre-wrap>5th &amp; K St NW                                      </span></td><td>Subscriber                                                                                     </td></tr>\n",
       "\t<tr><td> 665458                                                                                        </td><td>2017-04-02 07:48:35                                                                            </td><td>2017-04-02 08:19:03                                                                            </td><td>1827.341                                                                                       </td><td><span style=white-space:pre-wrap>Constitution Ave &amp; 2nd St NW/DOL           </span>        </td><td><span style=white-space:pre-wrap>M St &amp; Pennsylvania Ave NW                         </span></td><td><span style=white-space:pre-wrap>Customer  </span>                                             </td></tr>\n",
       "\t<tr><td>1481135                                                                                        </td><td>2017-06-10 08:36:28                                                                            </td><td>2017-06-10 09:02:17                                                                            </td><td>1549.427                                                                                       </td><td>Henry Bacon Dr &amp; Lincoln Memorial Circle NW                                                </td><td><span style=white-space:pre-wrap>Maine Ave &amp; 7th St SW                              </span></td><td>Subscriber                                                                                     </td></tr>\n",
       "\t<tr><td>1148202                                                                                </td><td>2017-05-14 07:18:18                                                                    </td><td>2017-05-14 07:24:56                                                                    </td><td> 398.000                                                                               </td><td><span style=white-space:pre-wrap>1st &amp; K St SE                              </span></td><td>Eastern Market Metro / Pennsylvania Ave &amp; 7th St SE                                </td><td>Subscriber                                                                             </td></tr>\n",
       "</tbody>\n",
       "</table>\n"
      ],
      "text/latex": [
       "\\begin{tabular}{r|lllllll}\n",
       " X & Start.Time & End.Time & Trip.Duration & Start.Station & End.Station & User.Type\\\\\n",
       "\\hline\n",
       "\t 1621326                                               & 2017-06-21 08:36:34                                   & 2017-06-21 08:44:43                                   &  489.066                                              & 14th \\& Belmont St NW                                & 15th \\& K St NW                                      & Subscriber                                           \\\\\n",
       "\t  482740                                               & 2017-03-11 10:40:00                                   & 2017-03-11 10:46:00                                   &  402.549                                              & Yuma St \\& Tenley Circle NW                          & Connecticut Ave \\& Yuma St NW                        & Subscriber                                           \\\\\n",
       "\t 1330037                                               & 2017-05-30 01:02:59                                   & 2017-05-30 01:13:37                                   &  637.251                                              & 17th St \\& Massachusetts Ave NW                      & 5th \\& K St NW                                       & Subscriber                                           \\\\\n",
       "\t  665458                                               & 2017-04-02 07:48:35                                   & 2017-04-02 08:19:03                                   & 1827.341                                              & Constitution Ave \\& 2nd St NW/DOL                    & M St \\& Pennsylvania Ave NW                          & Customer                                             \\\\\n",
       "\t 1481135                                               & 2017-06-10 08:36:28                                   & 2017-06-10 09:02:17                                   & 1549.427                                              & Henry Bacon Dr \\& Lincoln Memorial Circle NW         & Maine Ave \\& 7th St SW                               & Subscriber                                           \\\\\n",
       "\t 1148202                                               & 2017-05-14 07:18:18                                   & 2017-05-14 07:24:56                                   &  398.000                                              & 1st \\& K St SE                                       & Eastern Market Metro / Pennsylvania Ave \\& 7th St SE & Subscriber                                           \\\\\n",
       "\\end{tabular}\n"
      ],
      "text/markdown": [
       "\n",
       "| X | Start.Time | End.Time | Trip.Duration | Start.Station | End.Station | User.Type |\n",
       "|---|---|---|---|---|---|---|\n",
       "| 1621326                                             | 2017-06-21 08:36:34                                 | 2017-06-21 08:44:43                                 |  489.066                                            | 14th & Belmont St NW                                | 15th & K St NW                                      | Subscriber                                          |\n",
       "|  482740                                             | 2017-03-11 10:40:00                                 | 2017-03-11 10:46:00                                 |  402.549                                            | Yuma St & Tenley Circle NW                          | Connecticut Ave & Yuma St NW                        | Subscriber                                          |\n",
       "| 1330037                                             | 2017-05-30 01:02:59                                 | 2017-05-30 01:13:37                                 |  637.251                                            | 17th St & Massachusetts Ave NW                      | 5th & K St NW                                       | Subscriber                                          |\n",
       "|  665458                                             | 2017-04-02 07:48:35                                 | 2017-04-02 08:19:03                                 | 1827.341                                            | Constitution Ave & 2nd St NW/DOL                    | M St & Pennsylvania Ave NW                          | Customer                                            |\n",
       "| 1481135                                             | 2017-06-10 08:36:28                                 | 2017-06-10 09:02:17                                 | 1549.427                                            | Henry Bacon Dr & Lincoln Memorial Circle NW         | Maine Ave & 7th St SW                               | Subscriber                                          |\n",
       "| 1148202                                             | 2017-05-14 07:18:18                                 | 2017-05-14 07:24:56                                 |  398.000                                            | 1st & K St SE                                       | Eastern Market Metro / Pennsylvania Ave & 7th St SE | Subscriber                                          |\n",
       "\n"
      ],
      "text/plain": [
       "  X       Start.Time          End.Time            Trip.Duration\n",
       "1 1621326 2017-06-21 08:36:34 2017-06-21 08:44:43  489.066     \n",
       "2  482740 2017-03-11 10:40:00 2017-03-11 10:46:00  402.549     \n",
       "3 1330037 2017-05-30 01:02:59 2017-05-30 01:13:37  637.251     \n",
       "4  665458 2017-04-02 07:48:35 2017-04-02 08:19:03 1827.341     \n",
       "5 1481135 2017-06-10 08:36:28 2017-06-10 09:02:17 1549.427     \n",
       "6 1148202 2017-05-14 07:18:18 2017-05-14 07:24:56  398.000     \n",
       "  Start.Station                              \n",
       "1 14th & Belmont St NW                       \n",
       "2 Yuma St & Tenley Circle NW                 \n",
       "3 17th St & Massachusetts Ave NW             \n",
       "4 Constitution Ave & 2nd St NW/DOL           \n",
       "5 Henry Bacon Dr & Lincoln Memorial Circle NW\n",
       "6 1st & K St SE                              \n",
       "  End.Station                                         User.Type \n",
       "1 15th & K St NW                                      Subscriber\n",
       "2 Connecticut Ave & Yuma St NW                        Subscriber\n",
       "3 5th & K St NW                                       Subscriber\n",
       "4 M St & Pennsylvania Ave NW                          Customer  \n",
       "5 Maine Ave & 7th St SW                               Subscriber\n",
       "6 Eastern Market Metro / Pennsylvania Ave & 7th St SE Subscriber"
      ]
     },
     "metadata": {},
     "output_type": "display_data"
    }
   ],
   "source": [
    "# Washington, D.C.\n",
    "print(dim(wash))\n",
    "head(wash)"
   ]
  },
  {
   "cell_type": "code",
   "execution_count": 168,
   "metadata": {},
   "outputs": [
    {
     "name": "stdout",
     "output_type": "stream",
     "text": [
      "[1] 8630    9\n"
     ]
    },
    {
     "data": {
      "text/html": [
       "<table>\n",
       "<thead><tr><th scope=col>X</th><th scope=col>Start.Time</th><th scope=col>End.Time</th><th scope=col>Trip.Duration</th><th scope=col>Start.Station</th><th scope=col>End.Station</th><th scope=col>User.Type</th><th scope=col>Gender</th><th scope=col>Birth.Year</th></tr></thead>\n",
       "<tbody>\n",
       "\t<tr><td>1423854                                                                  </td><td>2017-06-23 15:09:32                                                      </td><td>2017-06-23 15:14:53                                                      </td><td> 321                                                                     </td><td><span style=white-space:pre-wrap>Wood St &amp; Hubbard St         </span></td><td><span style=white-space:pre-wrap>Damen Ave &amp; Chicago Ave     </span> </td><td>Subscriber                                                               </td><td><span style=white-space:pre-wrap>Male  </span>                           </td><td>1992                                                                     </td></tr>\n",
       "\t<tr><td> 955915                                                              </td><td>2017-05-25 18:19:03                                                  </td><td>2017-05-25 18:45:53                                                  </td><td>1610                                                                 </td><td><span style=white-space:pre-wrap>Theater on the Lake          </span></td><td>Sheffield Ave &amp; Waveland Ave                                     </td><td>Subscriber                                                           </td><td>Female                                                               </td><td>1992                                                                 </td></tr>\n",
       "\t<tr><td><span style=white-space:pre-wrap>   9031</span>                          </td><td>2017-01-04 08:27:49                                                      </td><td>2017-01-04 08:34:45                                                      </td><td> 416                                                                     </td><td><span style=white-space:pre-wrap>May St &amp; Taylor St           </span></td><td><span style=white-space:pre-wrap>Wood St &amp; Taylor St         </span> </td><td>Subscriber                                                               </td><td><span style=white-space:pre-wrap>Male  </span>                           </td><td>1981                                                                     </td></tr>\n",
       "\t<tr><td> 304487                                       </td><td>2017-03-06 13:49:38                           </td><td>2017-03-06 13:55:28                           </td><td> 350                                          </td><td>Christiana Ave &amp; Lawrence Ave             </td><td>St. Louis Ave &amp; Balmoral Ave              </td><td>Subscriber                                    </td><td><span style=white-space:pre-wrap>Male  </span></td><td>1986                                          </td></tr>\n",
       "\t<tr><td><span style=white-space:pre-wrap>  45207</span>                          </td><td>2017-01-17 14:53:07                                                      </td><td>2017-01-17 15:02:01                                                      </td><td> 534                                                                     </td><td><span style=white-space:pre-wrap>Clark St &amp; Randolph St       </span></td><td>Desplaines St &amp; Jackson Blvd                                         </td><td>Subscriber                                                               </td><td><span style=white-space:pre-wrap>Male  </span>                           </td><td>1975                                                                     </td></tr>\n",
       "\t<tr><td>1473887                                                                 </td><td>2017-06-26 09:01:20                                                     </td><td>2017-06-26 09:11:06                                                     </td><td> 586                                                                    </td><td>Clinton St &amp; Washington Blvd                                        </td><td><span style=white-space:pre-wrap>Canal St &amp; Taylor St        </span></td><td>Subscriber                                                              </td><td><span style=white-space:pre-wrap>Male  </span>                          </td><td>1990                                                                    </td></tr>\n",
       "</tbody>\n",
       "</table>\n"
      ],
      "text/latex": [
       "\\begin{tabular}{r|lllllllll}\n",
       " X & Start.Time & End.Time & Trip.Duration & Start.Station & End.Station & User.Type & Gender & Birth.Year\\\\\n",
       "\\hline\n",
       "\t 1423854                         & 2017-06-23 15:09:32             & 2017-06-23 15:14:53             &  321                            & Wood St \\& Hubbard St          & Damen Ave \\& Chicago Ave       & Subscriber                      & Male                            & 1992                           \\\\\n",
       "\t  955915                        & 2017-05-25 18:19:03            & 2017-05-25 18:45:53            & 1610                           & Theater on the Lake            & Sheffield Ave \\& Waveland Ave & Subscriber                     & Female                         & 1992                          \\\\\n",
       "\t    9031                         & 2017-01-04 08:27:49             & 2017-01-04 08:34:45             &  416                            & May St \\& Taylor St            & Wood St \\& Taylor St           & Subscriber                      & Male                            & 1981                           \\\\\n",
       "\t  304487                         & 2017-03-06 13:49:38             & 2017-03-06 13:55:28             &  350                            & Christiana Ave \\& Lawrence Ave & St. Louis Ave \\& Balmoral Ave  & Subscriber                      & Male                            & 1986                           \\\\\n",
       "\t   45207                         & 2017-01-17 14:53:07             & 2017-01-17 15:02:01             &  534                            & Clark St \\& Randolph St        & Desplaines St \\& Jackson Blvd  & Subscriber                      & Male                            & 1975                           \\\\\n",
       "\t 1473887                         & 2017-06-26 09:01:20             & 2017-06-26 09:11:06             &  586                            & Clinton St \\& Washington Blvd  & Canal St \\& Taylor St          & Subscriber                      & Male                            & 1990                           \\\\\n",
       "\\end{tabular}\n"
      ],
      "text/markdown": [
       "\n",
       "| X | Start.Time | End.Time | Trip.Duration | Start.Station | End.Station | User.Type | Gender | Birth.Year |\n",
       "|---|---|---|---|---|---|---|---|---|\n",
       "| 1423854                       | 2017-06-23 15:09:32           | 2017-06-23 15:14:53           |  321                          | Wood St & Hubbard St          | Damen Ave & Chicago Ave       | Subscriber                    | Male                          | 1992                          |\n",
       "|  955915                       | 2017-05-25 18:19:03           | 2017-05-25 18:45:53           | 1610                          | Theater on the Lake           | Sheffield Ave & Waveland Ave  | Subscriber                    | Female                        | 1992                          |\n",
       "|    9031                       | 2017-01-04 08:27:49           | 2017-01-04 08:34:45           |  416                          | May St & Taylor St            | Wood St & Taylor St           | Subscriber                    | Male                          | 1981                          |\n",
       "|  304487                       | 2017-03-06 13:49:38           | 2017-03-06 13:55:28           |  350                          | Christiana Ave & Lawrence Ave | St. Louis Ave & Balmoral Ave  | Subscriber                    | Male                          | 1986                          |\n",
       "|   45207                       | 2017-01-17 14:53:07           | 2017-01-17 15:02:01           |  534                          | Clark St & Randolph St        | Desplaines St & Jackson Blvd  | Subscriber                    | Male                          | 1975                          |\n",
       "| 1473887                       | 2017-06-26 09:01:20           | 2017-06-26 09:11:06           |  586                          | Clinton St & Washington Blvd  | Canal St & Taylor St          | Subscriber                    | Male                          | 1990                          |\n",
       "\n"
      ],
      "text/plain": [
       "  X       Start.Time          End.Time            Trip.Duration\n",
       "1 1423854 2017-06-23 15:09:32 2017-06-23 15:14:53  321         \n",
       "2  955915 2017-05-25 18:19:03 2017-05-25 18:45:53 1610         \n",
       "3    9031 2017-01-04 08:27:49 2017-01-04 08:34:45  416         \n",
       "4  304487 2017-03-06 13:49:38 2017-03-06 13:55:28  350         \n",
       "5   45207 2017-01-17 14:53:07 2017-01-17 15:02:01  534         \n",
       "6 1473887 2017-06-26 09:01:20 2017-06-26 09:11:06  586         \n",
       "  Start.Station                 End.Station                  User.Type  Gender\n",
       "1 Wood St & Hubbard St          Damen Ave & Chicago Ave      Subscriber Male  \n",
       "2 Theater on the Lake           Sheffield Ave & Waveland Ave Subscriber Female\n",
       "3 May St & Taylor St            Wood St & Taylor St          Subscriber Male  \n",
       "4 Christiana Ave & Lawrence Ave St. Louis Ave & Balmoral Ave Subscriber Male  \n",
       "5 Clark St & Randolph St        Desplaines St & Jackson Blvd Subscriber Male  \n",
       "6 Clinton St & Washington Blvd  Canal St & Taylor St         Subscriber Male  \n",
       "  Birth.Year\n",
       "1 1992      \n",
       "2 1992      \n",
       "3 1981      \n",
       "4 1986      \n",
       "5 1975      \n",
       "6 1990      "
      ]
     },
     "metadata": {},
     "output_type": "display_data"
    }
   ],
   "source": [
    "# Chicago\n",
    "print(dim(chi))\n",
    "head(chi)"
   ]
  },
  {
   "cell_type": "markdown",
   "metadata": {},
   "source": [
    "### Question 1\n",
    "\n",
    "\n",
    "**What are the average travel time of users in the three cities?**"
   ]
  },
  {
   "cell_type": "code",
   "execution_count": 169,
   "metadata": {},
   "outputs": [],
   "source": [
    "# Load the ggplot libary\n",
    "library(ggplot2)"
   ]
  },
  {
   "cell_type": "markdown",
   "metadata": {},
   "source": [
    "To study this question, I first printed out the summary of the statistics of the trip duration (`Trip.Duration`) of all 3 cities."
   ]
  },
  {
   "cell_type": "code",
   "execution_count": 170,
   "metadata": {},
   "outputs": [
    {
     "name": "stdout",
     "output_type": "stream",
     "text": [
      "[1] \"New York\"\n"
     ]
    },
    {
     "data": {
      "text/plain": [
       "     Min.   1st Qu.    Median      Mean   3rd Qu.      Max.      NA's \n",
       "     61.0     368.0     610.0     903.6    1051.0 1088634.0         1 "
      ]
     },
     "metadata": {},
     "output_type": "display_data"
    },
    {
     "name": "stdout",
     "output_type": "stream",
     "text": [
      "[1] \"Washington\"\n"
     ]
    },
    {
     "data": {
      "text/plain": [
       "    Min.  1st Qu.   Median     Mean  3rd Qu.     Max.     NA's \n",
       "    60.3    410.9    707.0   1234.0   1233.2 904591.4        1 "
      ]
     },
     "metadata": {},
     "output_type": "display_data"
    },
    {
     "name": "stdout",
     "output_type": "stream",
     "text": [
      "[1] \"Chicago\"\n"
     ]
    },
    {
     "data": {
      "text/plain": [
       "   Min. 1st Qu.  Median    Mean 3rd Qu.    Max. \n",
       "   60.0   394.2   670.0   937.2  1119.0 85408.0 "
      ]
     },
     "metadata": {},
     "output_type": "display_data"
    }
   ],
   "source": [
    "# Summary of NYC\n",
    "print(\"New York\")\n",
    "summary(ny$Trip.Duration)\n",
    "\n",
    "# Summary of Washington\n",
    "print(\"Washington\")\n",
    "summary(wash$Trip.Duration)\n",
    "\n",
    "# Summary of Chicago\n",
    "print(\"Chicago\")\n",
    "summary(chi$Trip.Duration)"
   ]
  },
  {
   "cell_type": "markdown",
   "metadata": {},
   "source": [
    "**Finding:** The mean of the trip durations is 903.6 seconds in NYC, 1,234 seconds in Washington, and 937.2 seconds in Chicago.\n",
    "\n",
    "**However**, I noticed that there're outliers in the data. For example, the maximum trip duration in NYC is found to be 1,088,634 seconds. This is almost about 12.5 days long. This could be an event where an system error occurred, the user forgot to return the bike, or the bike was lost.\n",
    "\n",
    "The mean of the trip durations might come from the contribution of the outliers. The outliers need to be removed so that we can have a more reliable statistics.\n",
    "\n",
    "To visualize the outliers, I used the boxplots."
   ]
  },
  {
   "cell_type": "code",
   "execution_count": 171,
   "metadata": {
    "scrolled": true
   },
   "outputs": [
    {
     "data": {
      "image/png": "[encoded data removed]",
      "text/plain": [
       "Plot with title “Chicago”"
      ]
     },
     "metadata": {},
     "output_type": "display_data"
    }
   ],
   "source": [
    "# Plot the box plots\n",
    "par(mfrow=c(1, 3))\n",
    "boxplot(ny$Trip.Duration, main=\"New Work\", xlab=\"ny\", ylab=\"Trip.Duration\")\n",
    "boxplot(wash$Trip.Duration, main=\"Washington\", xlab=\"wash\", ylab=\"Trip.Duration\")\n",
    "boxplot(chi$Trip.Duration, main=\"Chicago\", xlab=\"chi\", ylab=\"Trip.Duration\")"
   ]
  },
  {
   "cell_type": "markdown",
   "metadata": {},
   "source": [
    "I decided to removed the outliers that are too large for the reasons mentioned above.\n",
    "\n",
    "To identify the outliers, I calculated the Q3 quantile and the IQR. The outliers that are greater than **Q3+1.5\\*IQR** will be remove. (In other words, durations smaller than this value will be kept)"
   ]
  },
  {
   "cell_type": "code",
   "execution_count": 172,
   "metadata": {},
   "outputs": [],
   "source": [
    "# Calculate Q1 and Q3\n",
    "ny.Q = quantile(ny$Trip.Duration, probs=c(0.75), na.rm=TRUE)\n",
    "wash.Q = quantile(wash$Trip.Duration, probs=c(0.75), na.rm=TRUE)\n",
    "chi.Q = quantile(chi$Trip.Duration, probs=c(0.75), na.rm=TRUE)\n",
    "\n",
    "# Calculate IQR\n",
    "ny.IQR = IQR(ny$Trip.Duration, 'na.rm'=TRUE)\n",
    "wash.IQR = IQR(wash$Trip.Duration, 'na.rm'=TRUE)\n",
    "chi.IQR = IQR(chi$Trip.Duration, 'na.rm'=TRUE)\n",
    "\n",
    "# Lower bounds for the outliers\n",
    "ny.lower = ny.Q[1] + 1.5*ny.IQR\n",
    "wash.lower = wash.Q[1] + 1.5*wash.IQR\n",
    "chi.lower = chi.Q[1] + 1.5*chi.IQR\n",
    "\n",
    "# Eliminate outliers\n",
    "ny_clean = subset(ny, (ny$Trip.Duration<ny.lower))\n",
    "wash_clean = subset(wash, (wash$Trip.Duration<wash.lower))\n",
    "chi_clean = subset(chi, (chi$Trip.Duration<chi.lower))"
   ]
  },
  {
   "cell_type": "code",
   "execution_count": 184,
   "metadata": {},
   "outputs": [
    {
     "data": {
      "image/png": "[encoded data removed]",
      "text/plain": [
       "Plot with title “Chicago (outliers removed)”"
      ]
     },
     "metadata": {},
     "output_type": "display_data"
    }
   ],
   "source": [
    "# Plot the box plots again\n",
    "par(mfrow=c(1, 3))\n",
    "boxplot(ny_clean$Trip.Duration, main=\"New Work (outliers removed)\", xlab=\"ny\", ylab=\"Trip.Duration\")\n",
    "boxplot(wash_clean$Trip.Duration, main=\"Washington (outliers removed)\", xlab=\"wash\", ylab=\"Trip.Duration\")\n",
    "boxplot(chi_clean$Trip.Duration, main=\"Chicago (outliers removed)\", xlab=\"chi\", ylab=\"Trip.Duration\")"
   ]
  },
  {
   "cell_type": "markdown",
   "metadata": {},
   "source": [
    "The mean of the trip duration can then be re-calculated."
   ]
  },
  {
   "cell_type": "code",
   "execution_count": 174,
   "metadata": {},
   "outputs": [
    {
     "name": "stdout",
     "output_type": "stream",
     "text": [
      "[1] \"New York (outliers removed)\"\n"
     ]
    },
    {
     "data": {
      "text/plain": [
       "   Min. 1st Qu.  Median    Mean 3rd Qu.    Max. \n",
       "   61.0   358.0   583.0   708.9   967.0  2075.0 "
      ]
     },
     "metadata": {},
     "output_type": "display_data"
    },
    {
     "name": "stdout",
     "output_type": "stream",
     "text": [
      "[1] \"Washington (outliers removed)\"\n"
     ]
    },
    {
     "data": {
      "text/plain": [
       "   Min. 1st Qu.  Median    Mean 3rd Qu.    Max. \n",
       "  60.27  390.14  650.46  778.47 1059.71 2466.35 "
      ]
     },
     "metadata": {},
     "output_type": "display_data"
    },
    {
     "name": "stdout",
     "output_type": "stream",
     "text": [
      "[1] \"Chicago (outliers removed)\"\n"
     ]
    },
    {
     "data": {
      "text/plain": [
       "   Min. 1st Qu.  Median    Mean 3rd Qu.    Max. \n",
       "   60.0   382.0   638.0   746.3  1035.0  2205.0 "
      ]
     },
     "metadata": {},
     "output_type": "display_data"
    }
   ],
   "source": [
    "# Summary of NYC\n",
    "print(\"New York (outliers removed)\")\n",
    "summary(ny_clean$Trip.Duration)\n",
    "\n",
    "# Summary of Washington\n",
    "print(\"Washington (outliers removed)\")\n",
    "summary(wash_clean$Trip.Duration)\n",
    "\n",
    "# Summary of Chicago\n",
    "print(\"Chicago (outliers removed)\")\n",
    "summary(chi_clean$Trip.Duration)"
   ]
  },
  {
   "cell_type": "markdown",
   "metadata": {},
   "source": [
    "The mean trip duration in New York decreased from 903.6 to 708.9\n",
    "\n",
    "The mean trip duration in Wasington decreased from 1,234 to 778.47\n",
    "\n",
    "The mean trip duration in Chicago decreased from 937.2 to 746.3\n",
    "\n",
    "The trip durations in all 3 cities range from about 60 to about 2500.\n",
    "\n",
    "All units here are in seconds (sec).\n",
    "\n",
    "A simple t-test is applied here to see if the means of trip duration between these cities are statistically different."
   ]
  },
  {
   "cell_type": "code",
   "execution_count": 175,
   "metadata": {},
   "outputs": [
    {
     "data": {
      "text/plain": [
       "\n",
       "\tWelch Two Sample t-test\n",
       "\n",
       "data:  ny_clean$Trip.Duration and wash_clean$Trip.Duration\n",
       "t = -26.359, df = 118590, p-value < 2.2e-16\n",
       "alternative hypothesis: true difference in means is not equal to 0\n",
       "95 percent confidence interval:\n",
       " -74.75074 -64.40375\n",
       "sample estimates:\n",
       "mean of x mean of y \n",
       " 708.8927  778.4700 \n"
      ]
     },
     "metadata": {},
     "output_type": "display_data"
    },
    {
     "data": {
      "text/plain": [
       "\n",
       "\tWelch Two Sample t-test\n",
       "\n",
       "data:  ny_clean$Trip.Duration and chi_clean$Trip.Duration\n",
       "t = -6.8935, df = 10899, p-value = 5.744e-12\n",
       "alternative hypothesis: true difference in means is not equal to 0\n",
       "95 percent confidence interval:\n",
       " -48.05899 -26.77877\n",
       "sample estimates:\n",
       "mean of x mean of y \n",
       " 708.8927  746.3116 \n"
      ]
     },
     "metadata": {},
     "output_type": "display_data"
    },
    {
     "data": {
      "text/plain": [
       "\n",
       "\tWelch Two Sample t-test\n",
       "\n",
       "data:  wash_clean$Trip.Duration and chi_clean$Trip.Duration\n",
       "t = 6.0188, df = 10255, p-value = 1.817e-09\n",
       "alternative hypothesis: true difference in means is not equal to 0\n",
       "95 percent confidence interval:\n",
       " 21.68508 42.63164\n",
       "sample estimates:\n",
       "mean of x mean of y \n",
       " 778.4700  746.3116 \n"
      ]
     },
     "metadata": {},
     "output_type": "display_data"
    }
   ],
   "source": [
    "# T-test between NYC and Washington\n",
    "t.test(ny_clean$Trip.Duration, wash_clean$Trip.Duration)\n",
    "\n",
    "# T-test between NYC and Chicago\n",
    "t.test(ny_clean$Trip.Duration, chi_clean$Trip.Duration)\n",
    "\n",
    "# T-test between Washington and Chicago\n",
    "t.test(wash_clean$Trip.Duration, chi_clean$Trip.Duration)"
   ]
  },
  {
   "cell_type": "markdown",
   "metadata": {},
   "source": [
    "Lastly, the histograms are plotted below:"
   ]
  },
  {
   "cell_type": "code",
   "execution_count": 176,
   "metadata": {},
   "outputs": [
    {
     "data": {
      "image/png": "[encoded data removed]",
      "text/plain": [
       "plot without title"
      ]
     },
     "metadata": {},
     "output_type": "display_data"
    },
    {
     "data": {
      "image/png": "[encoded data removed]",
      "text/plain": [
       "plot without title"
      ]
     },
     "metadata": {},
     "output_type": "display_data"
    },
    {
     "data": {
      "image/png": "[encoded data removed]",
      "text/plain": [
       "plot without title"
      ]
     },
     "metadata": {},
     "output_type": "display_data"
    }
   ],
   "source": [
    "# Plot the histograms\n",
    "# NYC\n",
    "qplot(ny_clean$Trip.Duration, binwidth=60,\n",
    "      main=\"New York\", xlab=\"Trip.Duration\", ylab=\"Counts\")\n",
    "# Washington\n",
    "qplot(wash_clean$Trip.Duration, binwidth=60,\n",
    "      main=\"Washington\", xlab=\"Trip.Duration\", ylab=\"Counts\")\n",
    "# Chicago\n",
    "qplot(chi_clean$Trip.Duration, binwidth=60,\n",
    "      main=\"Chicago\", xlab=\"Trip.Duration\", ylab=\"Counts\")"
   ]
  },
  {
   "cell_type": "markdown",
   "metadata": {},
   "source": [
    "**Summary of your question 1 results goes here.**\n",
    "\n",
    "**Summary**\n",
    "\n",
    "1. The mean trip duration is:\n",
    "    - 708.9 secs (~11.8 mins) in New York\n",
    "    - 778.47 secs (~13 mins) in Washington\n",
    "    - 746.3 secs (~12.4 mins) in Chicago\n",
    "\n",
    "2. By t-test, the mean trip duration in Washington is greater than in New York and Chicago.\n",
    "\n",
    "3. Outliers (that are too large) were removed from the data in this analysis."
   ]
  },
  {
   "cell_type": "markdown",
   "metadata": {},
   "source": [
    "### Question 2\n",
    "\n",
    "**Does the mean trip duration depend on the day of the week (or the month)?**\n",
    "\n",
    "This is the follow-up question. I'm interested in whether the trip duration is different on any specific day or during any specific month.\n",
    "\n",
    "Note that here I use the data where outliers were removed, as in the previous question."
   ]
  },
  {
   "cell_type": "code",
   "execution_count": 177,
   "metadata": {},
   "outputs": [
    {
     "name": "stdout",
     "output_type": "stream",
     "text": [
      "[1] \"Group by day of the week (New York)\"\n"
     ]
    },
    {
     "data": {
      "text/html": [
       "<table>\n",
       "<thead><tr><th scope=col>day of week</th><th scope=col>mean duration</th></tr></thead>\n",
       "<tbody>\n",
       "\t<tr><td>Friday   </td><td>692.7438 </td></tr>\n",
       "\t<tr><td>Monday   </td><td>683.6185 </td></tr>\n",
       "\t<tr><td>Saturday </td><td>756.4638 </td></tr>\n",
       "\t<tr><td>Sunday   </td><td>787.8780 </td></tr>\n",
       "\t<tr><td>Thursday </td><td>691.2797 </td></tr>\n",
       "\t<tr><td>Tuesday  </td><td>680.1054 </td></tr>\n",
       "\t<tr><td>Wednesday</td><td>700.7922 </td></tr>\n",
       "</tbody>\n",
       "</table>\n"
      ],
      "text/latex": [
       "\\begin{tabular}{r|ll}\n",
       " day of week & mean duration\\\\\n",
       "\\hline\n",
       "\t Friday    & 692.7438 \\\\\n",
       "\t Monday    & 683.6185 \\\\\n",
       "\t Saturday  & 756.4638 \\\\\n",
       "\t Sunday    & 787.8780 \\\\\n",
       "\t Thursday  & 691.2797 \\\\\n",
       "\t Tuesday   & 680.1054 \\\\\n",
       "\t Wednesday & 700.7922 \\\\\n",
       "\\end{tabular}\n"
      ],
      "text/markdown": [
       "\n",
       "| day of week | mean duration |\n",
       "|---|---|\n",
       "| Friday    | 692.7438  |\n",
       "| Monday    | 683.6185  |\n",
       "| Saturday  | 756.4638  |\n",
       "| Sunday    | 787.8780  |\n",
       "| Thursday  | 691.2797  |\n",
       "| Tuesday   | 680.1054  |\n",
       "| Wednesday | 700.7922  |\n",
       "\n"
      ],
      "text/plain": [
       "  day of week mean duration\n",
       "1 Friday      692.7438     \n",
       "2 Monday      683.6185     \n",
       "3 Saturday    756.4638     \n",
       "4 Sunday      787.8780     \n",
       "5 Thursday    691.2797     \n",
       "6 Tuesday     680.1054     \n",
       "7 Wednesday   700.7922     "
      ]
     },
     "metadata": {},
     "output_type": "display_data"
    },
    {
     "name": "stdout",
     "output_type": "stream",
     "text": [
      "[1] \"Group by month (New York)\"\n"
     ]
    },
    {
     "data": {
      "text/html": [
       "<table>\n",
       "<thead><tr><th scope=col>month</th><th scope=col>mean duration</th></tr></thead>\n",
       "<tbody>\n",
       "\t<tr><td>01      </td><td>629.9011</td></tr>\n",
       "\t<tr><td>02      </td><td>661.4329</td></tr>\n",
       "\t<tr><td>03      </td><td>638.2909</td></tr>\n",
       "\t<tr><td>04      </td><td>741.0080</td></tr>\n",
       "\t<tr><td>05      </td><td>732.2620</td></tr>\n",
       "\t<tr><td>06      </td><td>749.6838</td></tr>\n",
       "</tbody>\n",
       "</table>\n"
      ],
      "text/latex": [
       "\\begin{tabular}{r|ll}\n",
       " month & mean duration\\\\\n",
       "\\hline\n",
       "\t 01       & 629.9011\\\\\n",
       "\t 02       & 661.4329\\\\\n",
       "\t 03       & 638.2909\\\\\n",
       "\t 04       & 741.0080\\\\\n",
       "\t 05       & 732.2620\\\\\n",
       "\t 06       & 749.6838\\\\\n",
       "\\end{tabular}\n"
      ],
      "text/markdown": [
       "\n",
       "| month | mean duration |\n",
       "|---|---|\n",
       "| 01       | 629.9011 |\n",
       "| 02       | 661.4329 |\n",
       "| 03       | 638.2909 |\n",
       "| 04       | 741.0080 |\n",
       "| 05       | 732.2620 |\n",
       "| 06       | 749.6838 |\n",
       "\n"
      ],
      "text/plain": [
       "  month mean duration\n",
       "1 01    629.9011     \n",
       "2 02    661.4329     \n",
       "3 03    638.2909     \n",
       "4 04    741.0080     \n",
       "5 05    732.2620     \n",
       "6 06    749.6838     "
      ]
     },
     "metadata": {},
     "output_type": "display_data"
    },
    {
     "data": {
      "image/png": "[encoded data removed]",
      "text/plain": [
       "plot without title"
      ]
     },
     "metadata": {},
     "output_type": "display_data"
    },
    {
     "data": {
      "image/png": "[encoded data removed]",
      "text/plain": [
       "plot without title"
      ]
     },
     "metadata": {},
     "output_type": "display_data"
    }
   ],
   "source": [
    "## Analysis of NYC\n",
    "# group by day of the week\n",
    "print(\"Group by day of the week (New York)\")\n",
    "setNames(aggregate(ny_clean$Trip.Duration,\n",
    "                   by=list(weekdays(as.Date(ny_clean$Start.Time))),\n",
    "                   mean, na.rm=TRUE),\n",
    "         c(\"day of week\", \"mean duration\"))\n",
    "\n",
    "# group by month\n",
    "print(\"Group by month (New York)\")\n",
    "setNames(aggregate(ny_clean$Trip.Duration,\n",
    "                   by=list(strftime(as.Date(ny_clean$Start.Time), \"%m\")),\n",
    "                   mean, na.rm=TRUE),\n",
    "         c(\"month\", \"mean duration\"))\n",
    "\n",
    "# group-by-dow box plot\n",
    "qplot(weekdays(as.Date(ny_clean$Start.Time)),\n",
    "      ny_clean$Trip.Duration, geom=\"boxplot\",\n",
    "      main=\"New York\", xlab=\"Day of the week\", ylab=\"Counts\")\n",
    "\n",
    "# group-by-month box plot\n",
    "qplot(x=strftime(as.Date(ny_clean$Start.Time), \"%m\"),\n",
    "      y=ny_clean$Trip.Duration, geom=\"boxplot\",\n",
    "      main=\"New York\", xlab=\"Month\", ylab=\"Counts\")"
   ]
  },
  {
   "cell_type": "code",
   "execution_count": 178,
   "metadata": {},
   "outputs": [
    {
     "name": "stdout",
     "output_type": "stream",
     "text": [
      "[1] \"Group by day of the week (Washington)\"\n"
     ]
    },
    {
     "data": {
      "text/html": [
       "<table>\n",
       "<thead><tr><th scope=col>day of week</th><th scope=col>mean duration</th></tr></thead>\n",
       "<tbody>\n",
       "\t<tr><td>Friday   </td><td>752.3017 </td></tr>\n",
       "\t<tr><td>Monday   </td><td>754.5007 </td></tr>\n",
       "\t<tr><td>Saturday </td><td>901.0384 </td></tr>\n",
       "\t<tr><td>Sunday   </td><td>872.1970 </td></tr>\n",
       "\t<tr><td>Thursday </td><td>728.6577 </td></tr>\n",
       "\t<tr><td>Tuesday  </td><td>743.1405 </td></tr>\n",
       "\t<tr><td>Wednesday</td><td>738.1723 </td></tr>\n",
       "</tbody>\n",
       "</table>\n"
      ],
      "text/latex": [
       "\\begin{tabular}{r|ll}\n",
       " day of week & mean duration\\\\\n",
       "\\hline\n",
       "\t Friday    & 752.3017 \\\\\n",
       "\t Monday    & 754.5007 \\\\\n",
       "\t Saturday  & 901.0384 \\\\\n",
       "\t Sunday    & 872.1970 \\\\\n",
       "\t Thursday  & 728.6577 \\\\\n",
       "\t Tuesday   & 743.1405 \\\\\n",
       "\t Wednesday & 738.1723 \\\\\n",
       "\\end{tabular}\n"
      ],
      "text/markdown": [
       "\n",
       "| day of week | mean duration |\n",
       "|---|---|\n",
       "| Friday    | 752.3017  |\n",
       "| Monday    | 754.5007  |\n",
       "| Saturday  | 901.0384  |\n",
       "| Sunday    | 872.1970  |\n",
       "| Thursday  | 728.6577  |\n",
       "| Tuesday   | 743.1405  |\n",
       "| Wednesday | 738.1723  |\n",
       "\n"
      ],
      "text/plain": [
       "  day of week mean duration\n",
       "1 Friday      752.3017     \n",
       "2 Monday      754.5007     \n",
       "3 Saturday    901.0384     \n",
       "4 Sunday      872.1970     \n",
       "5 Thursday    728.6577     \n",
       "6 Tuesday     743.1405     \n",
       "7 Wednesday   738.1723     "
      ]
     },
     "metadata": {},
     "output_type": "display_data"
    },
    {
     "name": "stdout",
     "output_type": "stream",
     "text": [
      "[1] \"Group by month (Washington)\"\n"
     ]
    },
    {
     "data": {
      "text/html": [
       "<table>\n",
       "<thead><tr><th scope=col>month</th><th scope=col>mean duration</th></tr></thead>\n",
       "<tbody>\n",
       "\t<tr><td>01      </td><td>673.2939</td></tr>\n",
       "\t<tr><td>02      </td><td>724.9906</td></tr>\n",
       "\t<tr><td>03      </td><td>737.4976</td></tr>\n",
       "\t<tr><td>04      </td><td>833.5178</td></tr>\n",
       "\t<tr><td>05      </td><td>798.7676</td></tr>\n",
       "\t<tr><td>06      </td><td>818.3841</td></tr>\n",
       "</tbody>\n",
       "</table>\n"
      ],
      "text/latex": [
       "\\begin{tabular}{r|ll}\n",
       " month & mean duration\\\\\n",
       "\\hline\n",
       "\t 01       & 673.2939\\\\\n",
       "\t 02       & 724.9906\\\\\n",
       "\t 03       & 737.4976\\\\\n",
       "\t 04       & 833.5178\\\\\n",
       "\t 05       & 798.7676\\\\\n",
       "\t 06       & 818.3841\\\\\n",
       "\\end{tabular}\n"
      ],
      "text/markdown": [
       "\n",
       "| month | mean duration |\n",
       "|---|---|\n",
       "| 01       | 673.2939 |\n",
       "| 02       | 724.9906 |\n",
       "| 03       | 737.4976 |\n",
       "| 04       | 833.5178 |\n",
       "| 05       | 798.7676 |\n",
       "| 06       | 818.3841 |\n",
       "\n"
      ],
      "text/plain": [
       "  month mean duration\n",
       "1 01    673.2939     \n",
       "2 02    724.9906     \n",
       "3 03    737.4976     \n",
       "4 04    833.5178     \n",
       "5 05    798.7676     \n",
       "6 06    818.3841     "
      ]
     },
     "metadata": {},
     "output_type": "display_data"
    },
    {
     "data": {
      "image/png": "[encoded data removed]",
      "text/plain": [
       "plot without title"
      ]
     },
     "metadata": {},
     "output_type": "display_data"
    },
    {
     "data": {
      "image/png": "[encoded data removed]",
      "text/plain": [
       "plot without title"
      ]
     },
     "metadata": {},
     "output_type": "display_data"
    }
   ],
   "source": [
    "## Analysis of Washington\n",
    "# group by day of the week\n",
    "print(\"Group by day of the week (Washington)\")\n",
    "setNames(aggregate(wash_clean$Trip.Duration,\n",
    "                   by=list(weekdays(as.Date(wash_clean$Start.Time))),\n",
    "                   mean, na.rm=TRUE),\n",
    "         c(\"day of week\", \"mean duration\"))\n",
    "\n",
    "# group by month\n",
    "print(\"Group by month (Washington)\")\n",
    "setNames(aggregate(wash_clean$Trip.Duration,\n",
    "                   by=list(strftime(as.Date(wash_clean$Start.Time), \"%m\")),\n",
    "                   mean, na.rm=TRUE),\n",
    "         c(\"month\", \"mean duration\"))\n",
    "\n",
    "# group-by-dow box plot\n",
    "qplot(weekdays(as.Date(wash_clean$Start.Time)),\n",
    "      wash_clean$Trip.Duration, geom=\"boxplot\",\n",
    "      main=\"Washington\", xlab=\"Day of the week\", ylab=\"Counts\")\n",
    "\n",
    "# group-by-month box plot\n",
    "qplot(x=strftime(as.Date(wash_clean$Start.Time), \"%m\"),\n",
    "      y=wash_clean$Trip.Duration, geom=\"boxplot\",\n",
    "      main=\"Washington\", xlab=\"Month\", ylab=\"Counts\")"
   ]
  },
  {
   "cell_type": "code",
   "execution_count": 179,
   "metadata": {},
   "outputs": [
    {
     "name": "stdout",
     "output_type": "stream",
     "text": [
      "[1] \"Group by day of the week (Chicago)\"\n"
     ]
    },
    {
     "data": {
      "text/html": [
       "<table>\n",
       "<thead><tr><th scope=col>day of week</th><th scope=col>mean duration</th></tr></thead>\n",
       "<tbody>\n",
       "\t<tr><td>Friday   </td><td>700.9283 </td></tr>\n",
       "\t<tr><td>Monday   </td><td>743.6511 </td></tr>\n",
       "\t<tr><td>Saturday </td><td>884.4976 </td></tr>\n",
       "\t<tr><td>Sunday   </td><td>889.6479 </td></tr>\n",
       "\t<tr><td>Thursday </td><td>697.2457 </td></tr>\n",
       "\t<tr><td>Tuesday  </td><td>691.3443 </td></tr>\n",
       "\t<tr><td>Wednesday</td><td>668.0866 </td></tr>\n",
       "</tbody>\n",
       "</table>\n"
      ],
      "text/latex": [
       "\\begin{tabular}{r|ll}\n",
       " day of week & mean duration\\\\\n",
       "\\hline\n",
       "\t Friday    & 700.9283 \\\\\n",
       "\t Monday    & 743.6511 \\\\\n",
       "\t Saturday  & 884.4976 \\\\\n",
       "\t Sunday    & 889.6479 \\\\\n",
       "\t Thursday  & 697.2457 \\\\\n",
       "\t Tuesday   & 691.3443 \\\\\n",
       "\t Wednesday & 668.0866 \\\\\n",
       "\\end{tabular}\n"
      ],
      "text/markdown": [
       "\n",
       "| day of week | mean duration |\n",
       "|---|---|\n",
       "| Friday    | 700.9283  |\n",
       "| Monday    | 743.6511  |\n",
       "| Saturday  | 884.4976  |\n",
       "| Sunday    | 889.6479  |\n",
       "| Thursday  | 697.2457  |\n",
       "| Tuesday   | 691.3443  |\n",
       "| Wednesday | 668.0866  |\n",
       "\n"
      ],
      "text/plain": [
       "  day of week mean duration\n",
       "1 Friday      700.9283     \n",
       "2 Monday      743.6511     \n",
       "3 Saturday    884.4976     \n",
       "4 Sunday      889.6479     \n",
       "5 Thursday    697.2457     \n",
       "6 Tuesday     691.3443     \n",
       "7 Wednesday   668.0866     "
      ]
     },
     "metadata": {},
     "output_type": "display_data"
    },
    {
     "name": "stdout",
     "output_type": "stream",
     "text": [
      "[1] \"Group by month (Chicago)\"\n"
     ]
    },
    {
     "data": {
      "text/html": [
       "<table>\n",
       "<thead><tr><th scope=col>month</th><th scope=col>mean duration</th></tr></thead>\n",
       "<tbody>\n",
       "\t<tr><td>01      </td><td>609.3906</td></tr>\n",
       "\t<tr><td>02      </td><td>663.3355</td></tr>\n",
       "\t<tr><td>03      </td><td>619.5114</td></tr>\n",
       "\t<tr><td>04      </td><td>752.0275</td></tr>\n",
       "\t<tr><td>05      </td><td>781.1268</td></tr>\n",
       "\t<tr><td>06      </td><td>818.8426</td></tr>\n",
       "</tbody>\n",
       "</table>\n"
      ],
      "text/latex": [
       "\\begin{tabular}{r|ll}\n",
       " month & mean duration\\\\\n",
       "\\hline\n",
       "\t 01       & 609.3906\\\\\n",
       "\t 02       & 663.3355\\\\\n",
       "\t 03       & 619.5114\\\\\n",
       "\t 04       & 752.0275\\\\\n",
       "\t 05       & 781.1268\\\\\n",
       "\t 06       & 818.8426\\\\\n",
       "\\end{tabular}\n"
      ],
      "text/markdown": [
       "\n",
       "| month | mean duration |\n",
       "|---|---|\n",
       "| 01       | 609.3906 |\n",
       "| 02       | 663.3355 |\n",
       "| 03       | 619.5114 |\n",
       "| 04       | 752.0275 |\n",
       "| 05       | 781.1268 |\n",
       "| 06       | 818.8426 |\n",
       "\n"
      ],
      "text/plain": [
       "  month mean duration\n",
       "1 01    609.3906     \n",
       "2 02    663.3355     \n",
       "3 03    619.5114     \n",
       "4 04    752.0275     \n",
       "5 05    781.1268     \n",
       "6 06    818.8426     "
      ]
     },
     "metadata": {},
     "output_type": "display_data"
    },
    {
     "data": {
      "image/png": "[encoded data removed]",
      "text/plain": [
       "plot without title"
      ]
     },
     "metadata": {},
     "output_type": "display_data"
    },
    {
     "data": {
      "image/png": "[encoded data removed]",
      "text/plain": [
       "plot without title"
      ]
     },
     "metadata": {},
     "output_type": "display_data"
    }
   ],
   "source": [
    "## Analysis of Chicago\n",
    "# group by day of the week\n",
    "print(\"Group by day of the week (Chicago)\")\n",
    "setNames(aggregate(chi_clean$Trip.Duration,\n",
    "                   by=list(weekdays(as.Date(chi_clean$Start.Time))),\n",
    "                   mean, na.rm=TRUE),\n",
    "         c(\"day of week\", \"mean duration\"))\n",
    "\n",
    "# group by month\n",
    "print(\"Group by month (Chicago)\")\n",
    "setNames(aggregate(chi_clean$Trip.Duration,\n",
    "                   by=list(strftime(as.Date(chi_clean$Start.Time), \"%m\")),\n",
    "                   mean, na.rm=TRUE),\n",
    "         c(\"month\", \"mean duration\"))\n",
    "\n",
    "# group-by-dow box plot\n",
    "qplot(weekdays(as.Date(chi_clean$Start.Time)),\n",
    "      chi_clean$Trip.Duration, geom=\"boxplot\",\n",
    "      main=\"Chicago\", xlab=\"Day of the week\", ylab=\"Counts\")\n",
    "\n",
    "# group-by-month box plot\n",
    "qplot(x=strftime(as.Date(chi_clean$Start.Time), \"%m\"),\n",
    "      y=chi_clean$Trip.Duration, geom=\"boxplot\",\n",
    "      main=\"Chicago\", xlab=\"Month\", ylab=\"Counts\")"
   ]
  },
  {
   "cell_type": "markdown",
   "metadata": {},
   "source": [
    "From the tables and the box plots above, it seems that the mean trip duration on Saturday and Sunday is longer than Monday-through-Friday. The reason might be that during weekends, there're more rentals for leisure purposes.\n",
    "\n",
    "Second, it seems that the mean trip duration during April-June is longer than during January-March. The reason might be that it's warmer during the spring and users are more likely to ride the bike for a longer distance."
   ]
  },
  {
   "cell_type": "markdown",
   "metadata": {},
   "source": [
    "**Summary of your question 2 results goes here.**\n",
    "\n",
    "**Summary**\n",
    "\n",
    "1. The mean trip duration is longer during weekends (Saturday and Sunday)\n",
    "2. The mean trip duration is longer during spring (March to June)"
   ]
  },
  {
   "cell_type": "markdown",
   "metadata": {},
   "source": [
    "### Question 3\n",
    "\n",
    "**What are the top 3 popular start stations in each city?**\n",
    "\n",
    "It'll be interesting to list the top 3 popular start stations in these 3 cities. By this analysis, we can know where are the demands.\n",
    "\n",
    "From the previous question, it seem that the result might be different if it's during weekend or not. Therefore, for each city, the top 3 popular rental station during weekends and during weekdays will be listed separately."
   ]
  },
  {
   "cell_type": "code",
   "execution_count": 180,
   "metadata": {},
   "outputs": [
    {
     "name": "stdout",
     "output_type": "stream",
     "text": [
      "[1] \"Top 3 start stations during weekends (New York)\"\n"
     ]
    },
    {
     "data": {
      "text/html": [
       "<table>\n",
       "<thead><tr><th></th><th scope=col>Var1</th><th scope=col>Freq</th></tr></thead>\n",
       "<tbody>\n",
       "\t<tr><th scope=row>557</th><td><span style=white-space:pre-wrap>W 21 St &amp; 6 Ave      </span></td><td>79                                                               </td></tr>\n",
       "\t<tr><th scope=row>231</th><td><span style=white-space:pre-wrap>E 17 St &amp; Broadway   </span></td><td>75                                                               </td></tr>\n",
       "\t<tr><th scope=row>625</th><td>West St &amp; Chambers St</td><td>69                       </td></tr>\n",
       "</tbody>\n",
       "</table>\n"
      ],
      "text/latex": [
       "\\begin{tabular}{r|ll}\n",
       "  & Var1 & Freq\\\\\n",
       "\\hline\n",
       "\t557 & W 21 St \\& 6 Ave       & 79                     \\\\\n",
       "\t231 & E 17 St \\& Broadway    & 75                     \\\\\n",
       "\t625 & West St \\& Chambers St & 69                     \\\\\n",
       "\\end{tabular}\n"
      ],
      "text/markdown": [
       "\n",
       "| <!--/--> | Var1 | Freq |\n",
       "|---|---|---|\n",
       "| 557 | W 21 St & 6 Ave       | 79                    |\n",
       "| 231 | E 17 St & Broadway    | 75                    |\n",
       "| 625 | West St & Chambers St | 69                    |\n",
       "\n"
      ],
      "text/plain": [
       "    Var1                  Freq\n",
       "557 W 21 St & 6 Ave       79  \n",
       "231 E 17 St & Broadway    75  \n",
       "625 West St & Chambers St 69  "
      ]
     },
     "metadata": {},
     "output_type": "display_data"
    },
    {
     "name": "stdout",
     "output_type": "stream",
     "text": [
      "[1] \"Top 3 start stations during weekdays (New York)\"\n"
     ]
    },
    {
     "data": {
      "text/html": [
       "<table>\n",
       "<thead><tr><th></th><th scope=col>Var1</th><th scope=col>Freq</th></tr></thead>\n",
       "<tbody>\n",
       "\t<tr><th scope=row>467</th><td>Pershing Square North</td><td>513                  </td></tr>\n",
       "\t<tr><th scope=row>113</th><td><span style=white-space:pre-wrap>Broadway &amp; E 22 St   </span></td><td>288                                                              </td></tr>\n",
       "\t<tr><th scope=row>557</th><td><span style=white-space:pre-wrap>W 21 St &amp; 6 Ave      </span></td><td>283                                                              </td></tr>\n",
       "</tbody>\n",
       "</table>\n"
      ],
      "text/latex": [
       "\\begin{tabular}{r|ll}\n",
       "  & Var1 & Freq\\\\\n",
       "\\hline\n",
       "\t467 & Pershing Square North & 513                  \\\\\n",
       "\t113 & Broadway \\& E 22 St    & 288                    \\\\\n",
       "\t557 & W 21 St \\& 6 Ave       & 283                    \\\\\n",
       "\\end{tabular}\n"
      ],
      "text/markdown": [
       "\n",
       "| <!--/--> | Var1 | Freq |\n",
       "|---|---|---|\n",
       "| 467 | Pershing Square North | 513                   |\n",
       "| 113 | Broadway & E 22 St    | 288                   |\n",
       "| 557 | W 21 St & 6 Ave       | 283                   |\n",
       "\n"
      ],
      "text/plain": [
       "    Var1                  Freq\n",
       "467 Pershing Square North 513 \n",
       "113 Broadway & E 22 St    288 \n",
       "557 W 21 St & 6 Ave       283 "
      ]
     },
     "metadata": {},
     "output_type": "display_data"
    }
   ],
   "source": [
    "## New York City\n",
    "\n",
    "# Add a new column named \"dow\" to store the day of the week\n",
    "ny_clean$dow = weekdays(as.Date(ny_clean$Start.Time))\n",
    "\n",
    "## Weekend rentals\n",
    "# Extract rentals during weekends\n",
    "ny.weekends = na.omit(subset(ny_clean, (ny_clean$dow==\"Saturday\") | (ny_clean$dow==\"Sunday\")))\n",
    "# Counts the number of Start.Station and sort (decending)\n",
    "ny.weekends.SScounts = as.data.frame(table(ny.weekends$Start.Station))\n",
    "ny.weekends.SScounts = ny.weekends.SScounts[order(-ny.weekends.SScounts$Freq),]\n",
    "# See the top 3 stations (weekend)\n",
    "print(\"Top 3 start stations during weekends (New York)\")\n",
    "head(ny.weekends.SScounts, 3)\n",
    "\n",
    "## Weekdays\n",
    "# Extract rentals during weekdays\n",
    "ny.weekdays = na.omit(subset(ny_clean, (ny_clean$dow!=\"Saturday\") & (ny_clean$dow!=\"Sunday\")))\n",
    "# Counts the number of Start.Station and sort (decending)\n",
    "ny.weekdays.SScounts = as.data.frame(table(ny.weekdays$Start.Station))\n",
    "ny.weekdays.SScounts = ny.weekdays.SScounts[order(-ny.weekdays.SScounts$Freq),]\n",
    "# See the top 3 stations\n",
    "print(\"Top 3 start stations during weekdays (New York)\")\n",
    "head(ny.weekdays.SScounts, 3)"
   ]
  },
  {
   "cell_type": "code",
   "execution_count": 181,
   "metadata": {},
   "outputs": [
    {
     "name": "stdout",
     "output_type": "stream",
     "text": [
      "[1] \"Top 3 start stations during weekends (Washington)\"\n"
     ]
    },
    {
     "data": {
      "text/html": [
       "<table>\n",
       "<thead><tr><th></th><th scope=col>Var1</th><th scope=col>Freq</th></tr></thead>\n",
       "<tbody>\n",
       "\t<tr><th scope=row>306</th><td>Lincoln Memorial         </td><td>470                      </td></tr>\n",
       "\t<tr><th scope=row>282</th><td>Jefferson Dr &amp; 14th St SW</td><td>408                          </td></tr>\n",
       "\t<tr><th scope=row>283</th><td>Jefferson Memorial       </td><td>335                      </td></tr>\n",
       "</tbody>\n",
       "</table>\n"
      ],
      "text/latex": [
       "\\begin{tabular}{r|ll}\n",
       "  & Var1 & Freq\\\\\n",
       "\\hline\n",
       "\t306 & Lincoln Memorial          & 470                      \\\\\n",
       "\t282 & Jefferson Dr \\& 14th St SW & 408                        \\\\\n",
       "\t283 & Jefferson Memorial        & 335                      \\\\\n",
       "\\end{tabular}\n"
      ],
      "text/markdown": [
       "\n",
       "| <!--/--> | Var1 | Freq |\n",
       "|---|---|---|\n",
       "| 306 | Lincoln Memorial          | 470                       |\n",
       "| 282 | Jefferson Dr & 14th St SW | 408                       |\n",
       "| 283 | Jefferson Memorial        | 335                       |\n",
       "\n"
      ],
      "text/plain": [
       "    Var1                      Freq\n",
       "306 Lincoln Memorial          470 \n",
       "282 Jefferson Dr & 14th St SW 408 \n",
       "283 Jefferson Memorial        335 "
      ]
     },
     "metadata": {},
     "output_type": "display_data"
    },
    {
     "name": "stdout",
     "output_type": "stream",
     "text": [
      "[1] \"Top 3 start stations during weekdays (Washington)\"\n"
     ]
    },
    {
     "data": {
      "text/html": [
       "<table>\n",
       "<thead><tr><th></th><th scope=col>Var1</th><th scope=col>Freq</th></tr></thead>\n",
       "<tbody>\n",
       "\t<tr><th scope=row>210</th><td>Columbus Circle / Union Station     </td><td>1462                                </td></tr>\n",
       "\t<tr><th scope=row>321</th><td>Massachusetts Ave &amp; Dupont Circle NW</td><td> 877                                    </td></tr>\n",
       "\t<tr><th scope=row>51</th><td><span style=white-space:pre-wrap>15th &amp; P St NW                      </span></td><td> 712                                                                            </td></tr>\n",
       "</tbody>\n",
       "</table>\n"
      ],
      "text/latex": [
       "\\begin{tabular}{r|ll}\n",
       "  & Var1 & Freq\\\\\n",
       "\\hline\n",
       "\t210 & Columbus Circle / Union Station      & 1462                                \\\\\n",
       "\t321 & Massachusetts Ave \\& Dupont Circle NW &  877                                  \\\\\n",
       "\t51 & 15th \\& P St NW                       &  712                                  \\\\\n",
       "\\end{tabular}\n"
      ],
      "text/markdown": [
       "\n",
       "| <!--/--> | Var1 | Freq |\n",
       "|---|---|---|\n",
       "| 210 | Columbus Circle / Union Station      | 1462                                 |\n",
       "| 321 | Massachusetts Ave & Dupont Circle NW |  877                                 |\n",
       "| 51 | 15th & P St NW                       |  712                                 |\n",
       "\n"
      ],
      "text/plain": [
       "    Var1                                 Freq\n",
       "210 Columbus Circle / Union Station      1462\n",
       "321 Massachusetts Ave & Dupont Circle NW  877\n",
       "51  15th & P St NW                        712"
      ]
     },
     "metadata": {},
     "output_type": "display_data"
    }
   ],
   "source": [
    "## Washington\n",
    "\n",
    "# Add a new column named \"dow\" to store the day of the week\n",
    "wash_clean$dow = weekdays(as.Date(wash_clean$Start.Time))\n",
    "\n",
    "## Weekend rentals\n",
    "# Extract rentals during weekends\n",
    "wash.weekends = na.omit(subset(wash_clean, (wash_clean$dow==\"Saturday\") | (wash_clean$dow==\"Sunday\")))\n",
    "# Counts the number of Start.Station and sort (decending)\n",
    "wash.weekends.SScounts = as.data.frame(table(wash.weekends$Start.Station))\n",
    "wash.weekends.SScounts = wash.weekends.SScounts[order(-wash.weekends.SScounts$Freq),]\n",
    "# See the top 3 stations (weekend)\n",
    "print(\"Top 3 start stations during weekends (Washington)\")\n",
    "head(wash.weekends.SScounts, 3)\n",
    "\n",
    "## Weekdays\n",
    "# Extract rentals during weekdays\n",
    "wash.weekdays = na.omit(subset(wash_clean, (wash_clean$dow!=\"Saturday\") & (wash_clean$dow!=\"Sunday\")))\n",
    "# Counts the number of Start.Station and sort (decending)\n",
    "wash.weekdays.SScounts = as.data.frame(table(wash.weekdays$Start.Station))\n",
    "wash.weekdays.SScounts = wash.weekdays.SScounts[order(-wash.weekdays.SScounts$Freq),]\n",
    "# See the top 3 stations\n",
    "print(\"Top 3 start stations during weekdays (Washington)\")\n",
    "head(wash.weekdays.SScounts, 3)"
   ]
  },
  {
   "cell_type": "code",
   "execution_count": 182,
   "metadata": {},
   "outputs": [
    {
     "name": "stdout",
     "output_type": "stream",
     "text": [
      "[1] \"Top 3 start stations during weekends (Chicago)\"\n"
     ]
    },
    {
     "data": {
      "text/html": [
       "<table>\n",
       "<thead><tr><th></th><th scope=col>Var1</th><th scope=col>Freq</th></tr></thead>\n",
       "<tbody>\n",
       "\t<tr><th scope=row>422</th><td><span style=white-space:pre-wrap>Streeter Dr &amp; Grand Ave   </span></td><td>21                                                                    </td></tr>\n",
       "\t<tr><th scope=row>247</th><td>Lake Shore Dr &amp; North Blvd</td><td>19                            </td></tr>\n",
       "\t<tr><th scope=row>87</th><td><span style=white-space:pre-wrap>Clark St &amp; Armitage Ave   </span></td><td>17                                                                    </td></tr>\n",
       "</tbody>\n",
       "</table>\n"
      ],
      "text/latex": [
       "\\begin{tabular}{r|ll}\n",
       "  & Var1 & Freq\\\\\n",
       "\\hline\n",
       "\t422 & Streeter Dr \\& Grand Ave    & 21                          \\\\\n",
       "\t247 & Lake Shore Dr \\& North Blvd & 19                          \\\\\n",
       "\t87 & Clark St \\& Armitage Ave    & 17                          \\\\\n",
       "\\end{tabular}\n"
      ],
      "text/markdown": [
       "\n",
       "| <!--/--> | Var1 | Freq |\n",
       "|---|---|---|\n",
       "| 422 | Streeter Dr & Grand Ave    | 21                         |\n",
       "| 247 | Lake Shore Dr & North Blvd | 19                         |\n",
       "| 87 | Clark St & Armitage Ave    | 17                         |\n",
       "\n"
      ],
      "text/plain": [
       "    Var1                       Freq\n",
       "422 Streeter Dr & Grand Ave    21  \n",
       "247 Lake Shore Dr & North Blvd 19  \n",
       "87  Clark St & Armitage Ave    17  "
      ]
     },
     "metadata": {},
     "output_type": "display_data"
    },
    {
     "name": "stdout",
     "output_type": "stream",
     "text": [
      "[1] \"Top 3 start stations during weekdays (Chicago)\"\n"
     ]
    },
    {
     "data": {
      "text/html": [
       "<table>\n",
       "<thead><tr><th></th><th scope=col>Var1</th><th scope=col>Freq</th></tr></thead>\n",
       "<tbody>\n",
       "\t<tr><th scope=row>119</th><td>Clinton St &amp; Washington Blvd</td><td>116                             </td></tr>\n",
       "\t<tr><th scope=row>66</th><td><span style=white-space:pre-wrap>Canal St &amp; Adams St         </span></td><td> 94                                                                     </td></tr>\n",
       "\t<tr><th scope=row>115</th><td><span style=white-space:pre-wrap>Clinton St &amp; Madison St     </span></td><td> 87                                                                     </td></tr>\n",
       "</tbody>\n",
       "</table>\n"
      ],
      "text/latex": [
       "\\begin{tabular}{r|ll}\n",
       "  & Var1 & Freq\\\\\n",
       "\\hline\n",
       "\t119 & Clinton St \\& Washington Blvd & 116                           \\\\\n",
       "\t66 & Canal St \\& Adams St          &  94                           \\\\\n",
       "\t115 & Clinton St \\& Madison St      &  87                           \\\\\n",
       "\\end{tabular}\n"
      ],
      "text/markdown": [
       "\n",
       "| <!--/--> | Var1 | Freq |\n",
       "|---|---|---|\n",
       "| 119 | Clinton St & Washington Blvd | 116                          |\n",
       "| 66 | Canal St & Adams St          |  94                          |\n",
       "| 115 | Clinton St & Madison St      |  87                          |\n",
       "\n"
      ],
      "text/plain": [
       "    Var1                         Freq\n",
       "119 Clinton St & Washington Blvd 116 \n",
       "66  Canal St & Adams St           94 \n",
       "115 Clinton St & Madison St       87 "
      ]
     },
     "metadata": {},
     "output_type": "display_data"
    }
   ],
   "source": [
    "## Chicago\n",
    "\n",
    "# Add a new column named \"dow\" to store the day of the week\n",
    "chi_clean$dow = weekdays(as.Date(chi_clean$Start.Time))\n",
    "\n",
    "## Weekend rentals\n",
    "# Extract rentals during weekends\n",
    "chi.weekends = na.omit(subset(chi_clean, (chi_clean$dow==\"Saturday\") | (chi_clean$dow==\"Sunday\")))\n",
    "# Counts the number of Start.Station and sort (decending)\n",
    "chi.weekends.SScounts = as.data.frame(table(chi.weekends$Start.Station))\n",
    "chi.weekends.SScounts = chi.weekends.SScounts[order(-chi.weekends.SScounts$Freq),]\n",
    "# See the top 3 stations (weekend)\n",
    "print(\"Top 3 start stations during weekends (Chicago)\")\n",
    "head(chi.weekends.SScounts, 3)\n",
    "\n",
    "## Weekdays\n",
    "# Extract rentals during weekdays\n",
    "chi.weekdays = na.omit(subset(chi_clean, (chi_clean$dow!=\"Saturday\") & (chi_clean$dow!=\"Sunday\")))\n",
    "# Counts the number of Start.Station and sort (decending)\n",
    "chi.weekdays.SScounts = as.data.frame(table(chi.weekdays$Start.Station))\n",
    "chi.weekdays.SScounts = chi.weekdays.SScounts[order(-chi.weekdays.SScounts$Freq),]\n",
    "# See the top 3 stations\n",
    "print(\"Top 3 start stations during weekdays (Chicago)\")\n",
    "head(chi.weekdays.SScounts, 3)"
   ]
  },
  {
   "cell_type": "markdown",
   "metadata": {},
   "source": [
    "**Summary of your question 3 results goes here.**\n",
    "\n",
    "**Summaries**\n",
    "\n",
    "\n",
    "\n",
    "\n",
    "\n",
    "- Top 3 start stations in New York City are:\n",
    "    - weekends\n",
    "        1. W 21 St & 6 Ave\n",
    "        2. E 17 St & Broadway\n",
    "        3. West St & Chambers St\n",
    "    - weekdays\n",
    "        1. Pershing Square North\n",
    "        2. Broadway & E 22 St\n",
    "        3. W 21 St & 6 Ave\n",
    "        \n",
    "- Top 3 start stations in Washington are:\n",
    "    - weekends\n",
    "        1. Lincoln Memorial\n",
    "        2. Jefferson Dr & 14th St SW\n",
    "        3. Jefferson Memorial\n",
    "    - weekdays\n",
    "        1. Columbus Circle / Union Station\n",
    "        2. Massachusetts Ave & Dupont Circle NW\n",
    "        3. 15th & P St NW\n",
    "        \n",
    "- Top 3 start stations in Chicago are:\n",
    "    - weekends\n",
    "        1. Streeter Dr & Grand Ave\n",
    "        2. Lake Shore Dr & North Blvd\n",
    "        3. Clark St & Armitage Ave\n",
    "    - weekdays\n",
    "        1. Clinton St & Washington Blvd\n",
    "        2. Canal St & Adams St\n",
    "        3. Clinton St & Madison St\n",
    "\n",
    "From above, it's clear that popular start stations during weekends are different from during weekdays. "
   ]
  },
  {
   "cell_type": "markdown",
   "metadata": {},
   "source": [
    "\n",
    "## Finishing Up\n",
    "\n",
    "> Congratulations!  You have reached the end of the Explore Bikeshare Data Project. You should be very proud of all you have accomplished!\n",
    "\n",
    "> **Tip**: Once you are satisfied with your work here, check over your report to make sure that it is satisfies all the areas of the [rubric](https://review.udacity.com/#!/rubrics/2508/view). \n",
    "\n",
    "\n",
    "## Directions to Submit\n",
    "\n",
    "> Before you submit your project, you need to create a .html or .pdf version of this notebook in the workspace here. To do that, run the code cell below. If it worked correctly, you should get a return code of 0, and you should see the generated .html file in the workspace directory (click on the orange Jupyter icon in the upper left).\n",
    "\n",
    "> Alternatively, you can download this report as .html via the **File** > **Download as** submenu, and then manually upload it into the workspace directory by clicking on the orange Jupyter icon in the upper left, then using the Upload button.\n",
    "\n",
    "> Once you've done this, you can submit your project by clicking on the \"Submit Project\" button in the lower right here. This will create and submit a zip file with this .ipynb doc and the .html or .pdf version you created. Congratulations!"
   ]
  },
  {
   "cell_type": "code",
   "execution_count": 183,
   "metadata": {},
   "outputs": [],
   "source": [
    "system('python -m nbconvert Explore_bikeshare_data.ipynb')"
   ]
  }
 ],
 "metadata": {
  "kernelspec": {
   "display_name": "R",
   "language": "R",
   "name": "ir"
  },
  "language_info": {
   "codemirror_mode": "r",
   "file_extension": ".r",
   "mimetype": "text/x-r-source",
   "name": "R",
   "pygments_lexer": "r",
   "version": "3.5.1"
  }
 },
 "nbformat": 4,
 "nbformat_minor": 2
}
